{
 "cells": [
  {
   "cell_type": "code",
   "execution_count": 2,
   "metadata": {},
   "outputs": [],
   "source": [
    "# Automated EDA Techniques\n",
    "import pandas_profiling\n",
    "import seaborn as sns"
   ]
  },
  {
   "cell_type": "code",
   "execution_count": 3,
   "metadata": {},
   "outputs": [],
   "source": [
    "df = sns.load_dataset('tips')"
   ]
  },
  {
   "cell_type": "code",
   "execution_count": 4,
   "metadata": {},
   "outputs": [
    {
     "data": {
      "text/html": [
       "<div>\n",
       "<style scoped>\n",
       "    .dataframe tbody tr th:only-of-type {\n",
       "        vertical-align: middle;\n",
       "    }\n",
       "\n",
       "    .dataframe tbody tr th {\n",
       "        vertical-align: top;\n",
       "    }\n",
       "\n",
       "    .dataframe thead th {\n",
       "        text-align: right;\n",
       "    }\n",
       "</style>\n",
       "<table border=\"1\" class=\"dataframe\">\n",
       "  <thead>\n",
       "    <tr style=\"text-align: right;\">\n",
       "      <th></th>\n",
       "      <th>total_bill</th>\n",
       "      <th>tip</th>\n",
       "      <th>sex</th>\n",
       "      <th>smoker</th>\n",
       "      <th>day</th>\n",
       "      <th>time</th>\n",
       "      <th>size</th>\n",
       "    </tr>\n",
       "  </thead>\n",
       "  <tbody>\n",
       "    <tr>\n",
       "      <th>0</th>\n",
       "      <td>16.99</td>\n",
       "      <td>1.01</td>\n",
       "      <td>Female</td>\n",
       "      <td>No</td>\n",
       "      <td>Sun</td>\n",
       "      <td>Dinner</td>\n",
       "      <td>2</td>\n",
       "    </tr>\n",
       "    <tr>\n",
       "      <th>1</th>\n",
       "      <td>10.34</td>\n",
       "      <td>1.66</td>\n",
       "      <td>Male</td>\n",
       "      <td>No</td>\n",
       "      <td>Sun</td>\n",
       "      <td>Dinner</td>\n",
       "      <td>3</td>\n",
       "    </tr>\n",
       "    <tr>\n",
       "      <th>2</th>\n",
       "      <td>21.01</td>\n",
       "      <td>3.50</td>\n",
       "      <td>Male</td>\n",
       "      <td>No</td>\n",
       "      <td>Sun</td>\n",
       "      <td>Dinner</td>\n",
       "      <td>3</td>\n",
       "    </tr>\n",
       "    <tr>\n",
       "      <th>3</th>\n",
       "      <td>23.68</td>\n",
       "      <td>3.31</td>\n",
       "      <td>Male</td>\n",
       "      <td>No</td>\n",
       "      <td>Sun</td>\n",
       "      <td>Dinner</td>\n",
       "      <td>2</td>\n",
       "    </tr>\n",
       "    <tr>\n",
       "      <th>4</th>\n",
       "      <td>24.59</td>\n",
       "      <td>3.61</td>\n",
       "      <td>Female</td>\n",
       "      <td>No</td>\n",
       "      <td>Sun</td>\n",
       "      <td>Dinner</td>\n",
       "      <td>4</td>\n",
       "    </tr>\n",
       "  </tbody>\n",
       "</table>\n",
       "</div>"
      ],
      "text/plain": [
       "   total_bill   tip     sex smoker  day    time  size\n",
       "0       16.99  1.01  Female     No  Sun  Dinner     2\n",
       "1       10.34  1.66    Male     No  Sun  Dinner     3\n",
       "2       21.01  3.50    Male     No  Sun  Dinner     3\n",
       "3       23.68  3.31    Male     No  Sun  Dinner     2\n",
       "4       24.59  3.61  Female     No  Sun  Dinner     4"
      ]
     },
     "execution_count": 4,
     "metadata": {},
     "output_type": "execute_result"
    }
   ],
   "source": [
    "df.head()"
   ]
  },
  {
   "cell_type": "code",
   "execution_count": 5,
   "metadata": {},
   "outputs": [],
   "source": [
    "from pandas_profiling import ProfileReport\n"
   ]
  },
  {
   "cell_type": "code",
   "execution_count": 6,
   "metadata": {},
   "outputs": [],
   "source": [
    "\n",
    "profile = ProfileReport(df,explorative=True, dark_mode=True)"
   ]
  },
  {
   "cell_type": "code",
   "execution_count": 7,
   "metadata": {},
   "outputs": [
    {
     "data": {
      "application/vnd.jupyter.widget-view+json": {
       "model_id": "84a99e383a954ea3a99182eb19e29c05",
       "version_major": 2,
       "version_minor": 0
      },
      "text/plain": [
       "HBox(children=(HTML(value='Generate report structure'), FloatProgress(value=0.0, max=1.0), HTML(value='')))"
      ]
     },
     "metadata": {},
     "output_type": "display_data"
    },
    {
     "name": "stdout",
     "output_type": "stream",
     "text": [
      "\n"
     ]
    },
    {
     "data": {
      "application/vnd.jupyter.widget-view+json": {
       "model_id": "",
       "version_major": 2,
       "version_minor": 0
      },
      "text/plain": [
       "HBox(children=(HTML(value='Render widgets'), FloatProgress(value=0.0, max=1.0), HTML(value='')))"
      ]
     },
     "metadata": {},
     "output_type": "display_data"
    },
    {
     "data": {
      "application/vnd.jupyter.widget-view+json": {
       "model_id": "b122f114e3f04d0c8c7b639147273e5a",
       "version_major": 2,
       "version_minor": 0
      },
      "text/plain": [
       "VBox(children=(Tab(children=(Tab(children=(GridBox(children=(VBox(children=(GridspecLayout(children=(HTML(valu…"
      ]
     },
     "metadata": {},
     "output_type": "display_data"
    }
   ],
   "source": [
    "profile.to_widgets()"
   ]
  },
  {
   "cell_type": "code",
   "execution_count": 8,
   "metadata": {},
   "outputs": [
    {
     "name": "stdout",
     "output_type": "stream",
     "text": [
      "Collecting dtale\n",
      "  Downloading dtale-2.5.1-py2.py3-none-any.whl (12.9 MB)\n",
      "Requirement already satisfied: plotly>=5.0.0; python_version >= \"3.6\" in c:\\users\\deepak.thakur\\anaconda3\\lib\\site-packages (from dtale) (5.8.0)\n",
      "Collecting strsimpy\n",
      "  Downloading strsimpy-0.2.1-py3-none-any.whl (45 kB)\n",
      "Requirement already satisfied: et-xmlfile; python_version >= \"3.6\" in c:\\users\\deepak.thakur\\anaconda3\\lib\\site-packages (from dtale) (1.0.1)\n",
      "Requirement already satisfied: six in c:\\users\\deepak.thakur\\anaconda3\\lib\\site-packages (from dtale) (1.15.0)\n",
      "Requirement already satisfied: Flask; python_version >= \"3.7\" in c:\\users\\deepak.thakur\\anaconda3\\lib\\site-packages (from dtale) (1.1.2)\n",
      "Requirement already satisfied: openpyxl; python_version >= \"3.0\" in c:\\users\\deepak.thakur\\anaconda3\\lib\\site-packages (from dtale) (3.0.5)\n",
      "Requirement already satisfied: numpy; python_version >= \"3.0\" in c:\\users\\deepak.thakur\\anaconda3\\lib\\site-packages (from dtale) (1.19.2)\n",
      "Requirement already satisfied: matplotlib; python_version > \"3.6\" in c:\\users\\deepak.thakur\\anaconda3\\lib\\site-packages (from dtale) (3.3.2)\n",
      "Requirement already satisfied: itsdangerous; python_version >= \"3.7\" in c:\\users\\deepak.thakur\\anaconda3\\lib\\site-packages (from dtale) (1.1.0)\n",
      "Collecting flask-ngrok; python_version > \"3.0\"\n",
      "  Downloading flask_ngrok-0.0.25-py3-none-any.whl (3.1 kB)\n",
      "Requirement already satisfied: networkx; python_version > \"3.7\" in c:\\users\\deepak.thakur\\anaconda3\\lib\\site-packages (from dtale) (2.5)\n",
      "Collecting dash-bootstrap-components; python_version > \"3.0\"\n",
      "  Downloading dash_bootstrap_components-1.1.0-py3-none-any.whl (210 kB)\n",
      "Collecting dash-colorscales\n",
      "  Downloading dash_colorscales-0.0.4.tar.gz (62 kB)\n",
      "Collecting Flask-Compress\n",
      "  Downloading Flask_Compress-1.12-py3-none-any.whl (7.9 kB)\n",
      "Collecting lz4; python_version > \"3.0\"\n",
      "  Downloading lz4-4.0.1-cp38-cp38-win_amd64.whl (98 kB)\n",
      "Requirement already satisfied: future>=0.14.0 in c:\\users\\deepak.thakur\\anaconda3\\lib\\site-packages (from dtale) (0.18.2)\n",
      "Requirement already satisfied: scikit-learn; python_version > \"3.7\" in c:\\users\\deepak.thakur\\anaconda3\\lib\\site-packages (from dtale) (0.23.2)\n",
      "Requirement already satisfied: pandas in c:\\users\\deepak.thakur\\anaconda3\\lib\\site-packages (from dtale) (1.1.3)\n",
      "Collecting squarify\n",
      "  Downloading squarify-0.4.3-py3-none-any.whl (4.3 kB)\n",
      "Collecting dash-daq\n",
      "  Downloading dash_daq-0.5.0.tar.gz (642 kB)\n",
      "Collecting kaleido; python_version > \"3.6\"\n",
      "  Downloading kaleido-0.2.1-py2.py3-none-win_amd64.whl (65.9 MB)\n",
      "Requirement already satisfied: seaborn; python_version >= \"3.6\" in c:\\users\\deepak.thakur\\anaconda3\\lib\\site-packages (from dtale) (0.11.0)\n",
      "Collecting dash>=2.0.0; python_version > \"3.6\"\n",
      "  Downloading dash-2.5.0-py3-none-any.whl (9.8 MB)\n",
      "Collecting xarray; python_version >= \"3.0\"\n",
      "  Downloading xarray-2022.3.0-py3-none-any.whl (870 kB)\n",
      "Collecting missingno<=0.4.2\n",
      "  Downloading missingno-0.4.2-py3-none-any.whl (9.7 kB)\n",
      "Requirement already satisfied: scipy; python_version >= \"3.8\" in c:\\users\\deepak.thakur\\anaconda3\\lib\\site-packages (from dtale) (1.5.2)\n",
      "Requirement already satisfied: cycler; python_version > \"3.0\" in c:\\users\\deepak.thakur\\anaconda3\\lib\\site-packages (from dtale) (0.10.0)\n",
      "Requirement already satisfied: requests in c:\\users\\deepak.thakur\\anaconda3\\lib\\site-packages (from dtale) (2.24.0)\n",
      "Requirement already satisfied: statsmodels; python_version > \"3.7\" in c:\\users\\deepak.thakur\\anaconda3\\lib\\site-packages (from dtale) (0.12.0)\n",
      "Requirement already satisfied: certifi; python_version > \"3.0\" in c:\\users\\deepak.thakur\\anaconda3\\lib\\site-packages (from dtale) (2020.6.20)\n",
      "Requirement already satisfied: xlrd in c:\\users\\deepak.thakur\\anaconda3\\lib\\site-packages (from dtale) (1.2.0)\n",
      "Requirement already satisfied: tenacity>=6.2.0 in c:\\users\\deepak.thakur\\anaconda3\\lib\\site-packages (from plotly>=5.0.0; python_version >= \"3.6\"->dtale) (8.0.1)\n",
      "Requirement already satisfied: click>=5.1 in c:\\users\\deepak.thakur\\anaconda3\\lib\\site-packages (from Flask; python_version >= \"3.7\"->dtale) (7.1.2)\n",
      "Requirement already satisfied: Werkzeug>=0.15 in c:\\users\\deepak.thakur\\anaconda3\\lib\\site-packages (from Flask; python_version >= \"3.7\"->dtale) (1.0.1)\n",
      "Requirement already satisfied: Jinja2>=2.10.1 in c:\\users\\deepak.thakur\\anaconda3\\lib\\site-packages (from Flask; python_version >= \"3.7\"->dtale) (2.11.2)\n",
      "Requirement already satisfied: jdcal in c:\\users\\deepak.thakur\\anaconda3\\lib\\site-packages (from openpyxl; python_version >= \"3.0\"->dtale) (1.4.1)\n",
      "Requirement already satisfied: pyparsing!=2.0.4,!=2.1.2,!=2.1.6,>=2.0.3 in c:\\users\\deepak.thakur\\anaconda3\\lib\\site-packages (from matplotlib; python_version > \"3.6\"->dtale) (2.4.7)\n",
      "Requirement already satisfied: python-dateutil>=2.1 in c:\\users\\deepak.thakur\\anaconda3\\lib\\site-packages (from matplotlib; python_version > \"3.6\"->dtale) (2.8.1)\n",
      "Requirement already satisfied: pillow>=6.2.0 in c:\\users\\deepak.thakur\\anaconda3\\lib\\site-packages (from matplotlib; python_version > \"3.6\"->dtale) (8.0.1)\n",
      "Requirement already satisfied: kiwisolver>=1.0.1 in c:\\users\\deepak.thakur\\anaconda3\\lib\\site-packages (from matplotlib; python_version > \"3.6\"->dtale) (1.3.0)\n",
      "Requirement already satisfied: decorator>=4.3.0 in c:\\users\\deepak.thakur\\anaconda3\\lib\\site-packages (from networkx; python_version > \"3.7\"->dtale) (4.4.2)\n",
      "Collecting brotli\n",
      "  Downloading Brotli-1.0.9-cp38-cp38-win_amd64.whl (365 kB)\n",
      "Requirement already satisfied: joblib>=0.11 in c:\\users\\deepak.thakur\\anaconda3\\lib\\site-packages (from scikit-learn; python_version > \"3.7\"->dtale) (1.1.0)\n",
      "Requirement already satisfied: threadpoolctl>=2.0.0 in c:\\users\\deepak.thakur\\anaconda3\\lib\\site-packages (from scikit-learn; python_version > \"3.7\"->dtale) (2.1.0)\n",
      "Requirement already satisfied: pytz>=2017.2 in c:\\users\\deepak.thakur\\anaconda3\\lib\\site-packages (from pandas->dtale) (2020.1)\n",
      "Collecting dash-table==5.0.0\n",
      "  Downloading dash_table-5.0.0-py3-none-any.whl (3.9 kB)\n",
      "Collecting dash-html-components==2.0.0\n",
      "  Downloading dash_html_components-2.0.0-py3-none-any.whl (4.1 kB)\n",
      "Collecting dash-core-components==2.0.0\n",
      "  Downloading dash_core_components-2.0.0-py3-none-any.whl (3.8 kB)\n",
      "Requirement already satisfied: packaging>=20.0 in c:\\users\\deepak.thakur\\anaconda3\\lib\\site-packages (from xarray; python_version >= \"3.0\"->dtale) (20.4)\n",
      "Requirement already satisfied: idna<3,>=2.5 in c:\\users\\deepak.thakur\\anaconda3\\lib\\site-packages (from requests->dtale) (2.10)\n",
      "Requirement already satisfied: urllib3!=1.25.0,!=1.25.1,<1.26,>=1.21.1 in c:\\users\\deepak.thakur\\anaconda3\\lib\\site-packages (from requests->dtale) (1.25.11)\n",
      "Requirement already satisfied: chardet<4,>=3.0.2 in c:\\users\\deepak.thakur\\anaconda3\\lib\\site-packages (from requests->dtale) (3.0.4)\n",
      "Requirement already satisfied: patsy>=0.5 in c:\\users\\deepak.thakur\\anaconda3\\lib\\site-packages (from statsmodels; python_version > \"3.7\"->dtale) (0.5.1)\n",
      "Requirement already satisfied: MarkupSafe>=0.23 in c:\\users\\deepak.thakur\\anaconda3\\lib\\site-packages (from Jinja2>=2.10.1->Flask; python_version >= \"3.7\"->dtale) (2.0.1)\n",
      "Building wheels for collected packages: dash-colorscales, dash-daq\n",
      "  Building wheel for dash-colorscales (setup.py): started\n",
      "  Building wheel for dash-colorscales (setup.py): finished with status 'done'\n",
      "  Created wheel for dash-colorscales: filename=dash_colorscales-0.0.4-py3-none-any.whl size=62603 sha256=383c736d68cc3220ef594dd3ad75108f846fe5ab045816881f8cc088780a3482\n",
      "  Stored in directory: c:\\users\\deepak.thakur\\appdata\\local\\pip\\cache\\wheels\\fe\\33\\33\\172dbfe1efc739352828854a113df599a428b58f68ed0c4f75\n",
      "  Building wheel for dash-daq (setup.py): started\n",
      "  Building wheel for dash-daq (setup.py): finished with status 'done'\n",
      "  Created wheel for dash-daq: filename=dash_daq-0.5.0-py3-none-any.whl size=669706 sha256=39c1a2433f26bb115db441a96f46a1d3d1f9f99469f38c240d642f70fa0641ee\n",
      "  Stored in directory: c:\\users\\deepak.thakur\\appdata\\local\\pip\\cache\\wheels\\00\\35\\e5\\57e90f10c529601c6627400513cb65dd5adb09752411f5a050\n",
      "Successfully built dash-colorscales dash-daq\n",
      "Installing collected packages: strsimpy, flask-ngrok, dash-table, brotli, Flask-Compress, dash-html-components, dash-core-components, dash, dash-bootstrap-components, dash-colorscales, lz4, squarify, dash-daq, kaleido, xarray, missingno, dtale\n",
      "  Attempting uninstall: missingno\n",
      "    Found existing installation: missingno 0.5.1\n",
      "    Uninstalling missingno-0.5.1:\n",
      "      Successfully uninstalled missingno-0.5.1\n",
      "Successfully installed Flask-Compress-1.12 brotli-1.0.9 dash-2.5.0 dash-bootstrap-components-1.1.0 dash-colorscales-0.0.4 dash-core-components-2.0.0 dash-daq-0.5.0 dash-html-components-2.0.0 dash-table-5.0.0 dtale-2.5.1 flask-ngrok-0.0.25 kaleido-0.2.1 lz4-4.0.1 missingno-0.4.2 squarify-0.4.3 strsimpy-0.2.1 xarray-2022.3.0\n"
     ]
    },
    {
     "name": "stderr",
     "output_type": "stream",
     "text": [
      "ERROR: After October 2020 you may experience errors when installing or updating packages. This is because pip will change the way that it resolves dependency conflicts.\n",
      "\n",
      "We recommend you use --use-feature=2020-resolver to test your packages with the new resolver before it becomes the default.\n",
      "\n",
      "pandas-profiling 3.2.0 requires markupsafe~=2.1.1, but you'll have markupsafe 2.0.1 which is incompatible.\n"
     ]
    }
   ],
   "source": [
    "##dtale\n",
    "!pip install dtale"
   ]
  },
  {
   "cell_type": "code",
   "execution_count": 9,
   "metadata": {},
   "outputs": [],
   "source": [
    "import dtale\n"
   ]
  },
  {
   "cell_type": "code",
   "execution_count": 10,
   "metadata": {},
   "outputs": [
    {
     "data": {
      "text/html": [
       "\n",
       "        <iframe\n",
       "            width=\"100%\"\n",
       "            height=\"475\"\n",
       "            src=\"http://NDI-LAP-272:40000/dtale/iframe/1\"\n",
       "            frameborder=\"0\"\n",
       "            allowfullscreen\n",
       "        ></iframe>\n",
       "        "
      ],
      "text/plain": [
       "<IPython.lib.display.IFrame at 0x2412f820c40>"
      ]
     },
     "metadata": {},
     "output_type": "display_data"
    },
    {
     "data": {
      "text/plain": []
     },
     "execution_count": 10,
     "metadata": {},
     "output_type": "execute_result"
    }
   ],
   "source": [
    "dtale.show(df)"
   ]
  },
  {
   "cell_type": "code",
   "execution_count": null,
   "metadata": {},
   "outputs": [],
   "source": []
  }
 ],
 "metadata": {
  "kernelspec": {
   "display_name": "Python 3",
   "language": "python",
   "name": "python3"
  },
  "language_info": {
   "codemirror_mode": {
    "name": "ipython",
    "version": 3
   },
   "file_extension": ".py",
   "mimetype": "text/x-python",
   "name": "python",
   "nbconvert_exporter": "python",
   "pygments_lexer": "ipython3",
   "version": "3.8.5"
  }
 },
 "nbformat": 4,
 "nbformat_minor": 4
}
