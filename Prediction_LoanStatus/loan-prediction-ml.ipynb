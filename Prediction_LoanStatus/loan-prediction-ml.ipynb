{
 "cells": [
  {
   "cell_type": "code",
   "execution_count": 1,
   "id": "b5925c12",
   "metadata": {
    "_cell_guid": "b1076dfc-b9ad-4769-8c92-a6c4dae69d19",
    "_uuid": "8f2839f25d086af736a60e9eeb907d3b93b6e0e5",
    "execution": {
     "iopub.execute_input": "2022-07-07T14:11:07.880236Z",
     "iopub.status.busy": "2022-07-07T14:11:07.879528Z",
     "iopub.status.idle": "2022-07-07T14:11:07.899343Z",
     "shell.execute_reply": "2022-07-07T14:11:07.898081Z"
    },
    "papermill": {
     "duration": 0.039053,
     "end_time": "2022-07-07T14:11:07.902944",
     "exception": false,
     "start_time": "2022-07-07T14:11:07.863891",
     "status": "completed"
    },
    "tags": []
   },
   "outputs": [
    {
     "name": "stdout",
     "output_type": "stream",
     "text": [
      "/kaggle/input/loan-predication/train_u6lujuX_CVtuZ9i (1).csv\n"
     ]
    }
   ],
   "source": [
    "# This Python 3 environment comes with many helpful analytics libraries installed\n",
    "# It is defined by the kaggle/python Docker image: https://github.com/kaggle/docker-python\n",
    "# For example, here's several helpful packages to load\n",
    "\n",
    "import numpy as np # linear algebra\n",
    "import pandas as pd # data processing, CSV file I/O (e.g. pd.read_csv)\n",
    "\n",
    "# Input data files are available in the read-only \"../input/\" directory\n",
    "# For example, running this (by clicking run or pressing Shift+Enter) will list all files under the input directory\n",
    "\n",
    "import os\n",
    "for dirname, _, filenames in os.walk('/kaggle/input'):\n",
    "    for filename in filenames:\n",
    "        print(os.path.join(dirname, filename))\n",
    "\n",
    "# You can write up to 20GB to the current directory (/kaggle/working/) that gets preserved as output when you create a version using \"Save & Run All\" \n",
    "# You can also write temporary files to /kaggle/temp/, but they won't be saved outside of the current session"
   ]
  },
  {
   "cell_type": "code",
   "execution_count": 2,
   "id": "32e496fb",
   "metadata": {
    "execution": {
     "iopub.execute_input": "2022-07-07T14:11:07.931351Z",
     "iopub.status.busy": "2022-07-07T14:11:07.930932Z",
     "iopub.status.idle": "2022-07-07T14:11:09.295733Z",
     "shell.execute_reply": "2022-07-07T14:11:09.294484Z"
    },
    "papermill": {
     "duration": 1.382399,
     "end_time": "2022-07-07T14:11:09.298541",
     "exception": false,
     "start_time": "2022-07-07T14:11:07.916142",
     "status": "completed"
    },
    "tags": []
   },
   "outputs": [],
   "source": [
    "# Importing the Dependencies\n",
    "\n",
    "import pandas as pd\n",
    "import numpy as np\n",
    "import seaborn as sns\n",
    "from sklearn.model_selection import train_test_split\n",
    "from sklearn import svm\n",
    "from sklearn.metrics import accuracy_score"
   ]
  },
  {
   "cell_type": "markdown",
   "id": "37505f1a",
   "metadata": {
    "papermill": {
     "duration": 0.01276,
     "end_time": "2022-07-07T14:11:09.324123",
     "exception": false,
     "start_time": "2022-07-07T14:11:09.311363",
     "status": "completed"
    },
    "tags": []
   },
   "source": [
    "# Data collection and processing"
   ]
  },
  {
   "cell_type": "code",
   "execution_count": 3,
   "id": "de76ba4b",
   "metadata": {
    "execution": {
     "iopub.execute_input": "2022-07-07T14:11:09.352649Z",
     "iopub.status.busy": "2022-07-07T14:11:09.352228Z",
     "iopub.status.idle": "2022-07-07T14:11:09.371341Z",
     "shell.execute_reply": "2022-07-07T14:11:09.370133Z"
    },
    "papermill": {
     "duration": 0.037068,
     "end_time": "2022-07-07T14:11:09.374131",
     "exception": false,
     "start_time": "2022-07-07T14:11:09.337063",
     "status": "completed"
    },
    "tags": []
   },
   "outputs": [],
   "source": [
    "# loading the dataset to pandas dataframe\n",
    "\n",
    "df = pd.read_csv('../input/loan-predication/train_u6lujuX_CVtuZ9i (1).csv')"
   ]
  },
  {
   "cell_type": "code",
   "execution_count": 4,
   "id": "415e9b16",
   "metadata": {
    "execution": {
     "iopub.execute_input": "2022-07-07T14:11:09.401781Z",
     "iopub.status.busy": "2022-07-07T14:11:09.401346Z",
     "iopub.status.idle": "2022-07-07T14:11:09.429825Z",
     "shell.execute_reply": "2022-07-07T14:11:09.428731Z"
    },
    "papermill": {
     "duration": 0.04512,
     "end_time": "2022-07-07T14:11:09.432249",
     "exception": false,
     "start_time": "2022-07-07T14:11:09.387129",
     "status": "completed"
    },
    "tags": []
   },
   "outputs": [
    {
     "data": {
      "text/html": [
       "<div>\n",
       "<style scoped>\n",
       "    .dataframe tbody tr th:only-of-type {\n",
       "        vertical-align: middle;\n",
       "    }\n",
       "\n",
       "    .dataframe tbody tr th {\n",
       "        vertical-align: top;\n",
       "    }\n",
       "\n",
       "    .dataframe thead th {\n",
       "        text-align: right;\n",
       "    }\n",
       "</style>\n",
       "<table border=\"1\" class=\"dataframe\">\n",
       "  <thead>\n",
       "    <tr style=\"text-align: right;\">\n",
       "      <th></th>\n",
       "      <th>Loan_ID</th>\n",
       "      <th>Gender</th>\n",
       "      <th>Married</th>\n",
       "      <th>Dependents</th>\n",
       "      <th>Education</th>\n",
       "      <th>Self_Employed</th>\n",
       "      <th>ApplicantIncome</th>\n",
       "      <th>CoapplicantIncome</th>\n",
       "      <th>LoanAmount</th>\n",
       "      <th>Loan_Amount_Term</th>\n",
       "      <th>Credit_History</th>\n",
       "      <th>Property_Area</th>\n",
       "      <th>Loan_Status</th>\n",
       "    </tr>\n",
       "  </thead>\n",
       "  <tbody>\n",
       "    <tr>\n",
       "      <th>0</th>\n",
       "      <td>LP001002</td>\n",
       "      <td>Male</td>\n",
       "      <td>No</td>\n",
       "      <td>0</td>\n",
       "      <td>Graduate</td>\n",
       "      <td>No</td>\n",
       "      <td>5849</td>\n",
       "      <td>0.0</td>\n",
       "      <td>NaN</td>\n",
       "      <td>360.0</td>\n",
       "      <td>1.0</td>\n",
       "      <td>Urban</td>\n",
       "      <td>Y</td>\n",
       "    </tr>\n",
       "    <tr>\n",
       "      <th>1</th>\n",
       "      <td>LP001003</td>\n",
       "      <td>Male</td>\n",
       "      <td>Yes</td>\n",
       "      <td>1</td>\n",
       "      <td>Graduate</td>\n",
       "      <td>No</td>\n",
       "      <td>4583</td>\n",
       "      <td>1508.0</td>\n",
       "      <td>128.0</td>\n",
       "      <td>360.0</td>\n",
       "      <td>1.0</td>\n",
       "      <td>Rural</td>\n",
       "      <td>N</td>\n",
       "    </tr>\n",
       "    <tr>\n",
       "      <th>2</th>\n",
       "      <td>LP001005</td>\n",
       "      <td>Male</td>\n",
       "      <td>Yes</td>\n",
       "      <td>0</td>\n",
       "      <td>Graduate</td>\n",
       "      <td>Yes</td>\n",
       "      <td>3000</td>\n",
       "      <td>0.0</td>\n",
       "      <td>66.0</td>\n",
       "      <td>360.0</td>\n",
       "      <td>1.0</td>\n",
       "      <td>Urban</td>\n",
       "      <td>Y</td>\n",
       "    </tr>\n",
       "    <tr>\n",
       "      <th>3</th>\n",
       "      <td>LP001006</td>\n",
       "      <td>Male</td>\n",
       "      <td>Yes</td>\n",
       "      <td>0</td>\n",
       "      <td>Not Graduate</td>\n",
       "      <td>No</td>\n",
       "      <td>2583</td>\n",
       "      <td>2358.0</td>\n",
       "      <td>120.0</td>\n",
       "      <td>360.0</td>\n",
       "      <td>1.0</td>\n",
       "      <td>Urban</td>\n",
       "      <td>Y</td>\n",
       "    </tr>\n",
       "    <tr>\n",
       "      <th>4</th>\n",
       "      <td>LP001008</td>\n",
       "      <td>Male</td>\n",
       "      <td>No</td>\n",
       "      <td>0</td>\n",
       "      <td>Graduate</td>\n",
       "      <td>No</td>\n",
       "      <td>6000</td>\n",
       "      <td>0.0</td>\n",
       "      <td>141.0</td>\n",
       "      <td>360.0</td>\n",
       "      <td>1.0</td>\n",
       "      <td>Urban</td>\n",
       "      <td>Y</td>\n",
       "    </tr>\n",
       "  </tbody>\n",
       "</table>\n",
       "</div>"
      ],
      "text/plain": [
       "    Loan_ID Gender Married Dependents     Education Self_Employed  \\\n",
       "0  LP001002   Male      No          0      Graduate            No   \n",
       "1  LP001003   Male     Yes          1      Graduate            No   \n",
       "2  LP001005   Male     Yes          0      Graduate           Yes   \n",
       "3  LP001006   Male     Yes          0  Not Graduate            No   \n",
       "4  LP001008   Male      No          0      Graduate            No   \n",
       "\n",
       "   ApplicantIncome  CoapplicantIncome  LoanAmount  Loan_Amount_Term  \\\n",
       "0             5849                0.0         NaN             360.0   \n",
       "1             4583             1508.0       128.0             360.0   \n",
       "2             3000                0.0        66.0             360.0   \n",
       "3             2583             2358.0       120.0             360.0   \n",
       "4             6000                0.0       141.0             360.0   \n",
       "\n",
       "   Credit_History Property_Area Loan_Status  \n",
       "0             1.0         Urban           Y  \n",
       "1             1.0         Rural           N  \n",
       "2             1.0         Urban           Y  \n",
       "3             1.0         Urban           Y  \n",
       "4             1.0         Urban           Y  "
      ]
     },
     "execution_count": 4,
     "metadata": {},
     "output_type": "execute_result"
    }
   ],
   "source": [
    "# printing first five rows of the Dataframe\n",
    "\n",
    "df.head(5)"
   ]
  },
  {
   "cell_type": "code",
   "execution_count": 5,
   "id": "deab21ff",
   "metadata": {
    "execution": {
     "iopub.execute_input": "2022-07-07T14:11:09.461134Z",
     "iopub.status.busy": "2022-07-07T14:11:09.460663Z",
     "iopub.status.idle": "2022-07-07T14:11:09.466521Z",
     "shell.execute_reply": "2022-07-07T14:11:09.465201Z"
    },
    "papermill": {
     "duration": 0.023021,
     "end_time": "2022-07-07T14:11:09.469072",
     "exception": false,
     "start_time": "2022-07-07T14:11:09.446051",
     "status": "completed"
    },
    "tags": []
   },
   "outputs": [],
   "source": [
    "# keeping the copy of the Dataset\n",
    "\n",
    "backup = df.copy()"
   ]
  },
  {
   "cell_type": "code",
   "execution_count": 6,
   "id": "9166e8c6",
   "metadata": {
    "execution": {
     "iopub.execute_input": "2022-07-07T14:11:09.498667Z",
     "iopub.status.busy": "2022-07-07T14:11:09.498275Z",
     "iopub.status.idle": "2022-07-07T14:11:09.505303Z",
     "shell.execute_reply": "2022-07-07T14:11:09.504161Z"
    },
    "papermill": {
     "duration": 0.024166,
     "end_time": "2022-07-07T14:11:09.507635",
     "exception": false,
     "start_time": "2022-07-07T14:11:09.483469",
     "status": "completed"
    },
    "tags": []
   },
   "outputs": [
    {
     "data": {
      "text/plain": [
       "(614, 13)"
      ]
     },
     "execution_count": 6,
     "metadata": {},
     "output_type": "execute_result"
    }
   ],
   "source": [
    "# Number of rows and columns\n",
    "\n",
    "df.shape"
   ]
  },
  {
   "cell_type": "code",
   "execution_count": 7,
   "id": "4349c118",
   "metadata": {
    "execution": {
     "iopub.execute_input": "2022-07-07T14:11:09.537162Z",
     "iopub.status.busy": "2022-07-07T14:11:09.536752Z",
     "iopub.status.idle": "2022-07-07T14:11:09.574572Z",
     "shell.execute_reply": "2022-07-07T14:11:09.573423Z"
    },
    "papermill": {
     "duration": 0.055624,
     "end_time": "2022-07-07T14:11:09.576947",
     "exception": false,
     "start_time": "2022-07-07T14:11:09.521323",
     "status": "completed"
    },
    "tags": []
   },
   "outputs": [
    {
     "data": {
      "text/html": [
       "<div>\n",
       "<style scoped>\n",
       "    .dataframe tbody tr th:only-of-type {\n",
       "        vertical-align: middle;\n",
       "    }\n",
       "\n",
       "    .dataframe tbody tr th {\n",
       "        vertical-align: top;\n",
       "    }\n",
       "\n",
       "    .dataframe thead th {\n",
       "        text-align: right;\n",
       "    }\n",
       "</style>\n",
       "<table border=\"1\" class=\"dataframe\">\n",
       "  <thead>\n",
       "    <tr style=\"text-align: right;\">\n",
       "      <th></th>\n",
       "      <th>ApplicantIncome</th>\n",
       "      <th>CoapplicantIncome</th>\n",
       "      <th>LoanAmount</th>\n",
       "      <th>Loan_Amount_Term</th>\n",
       "      <th>Credit_History</th>\n",
       "    </tr>\n",
       "  </thead>\n",
       "  <tbody>\n",
       "    <tr>\n",
       "      <th>count</th>\n",
       "      <td>614.000000</td>\n",
       "      <td>614.000000</td>\n",
       "      <td>592.000000</td>\n",
       "      <td>600.00000</td>\n",
       "      <td>564.000000</td>\n",
       "    </tr>\n",
       "    <tr>\n",
       "      <th>mean</th>\n",
       "      <td>5403.459283</td>\n",
       "      <td>1621.245798</td>\n",
       "      <td>146.412162</td>\n",
       "      <td>342.00000</td>\n",
       "      <td>0.842199</td>\n",
       "    </tr>\n",
       "    <tr>\n",
       "      <th>std</th>\n",
       "      <td>6109.041673</td>\n",
       "      <td>2926.248369</td>\n",
       "      <td>85.587325</td>\n",
       "      <td>65.12041</td>\n",
       "      <td>0.364878</td>\n",
       "    </tr>\n",
       "    <tr>\n",
       "      <th>min</th>\n",
       "      <td>150.000000</td>\n",
       "      <td>0.000000</td>\n",
       "      <td>9.000000</td>\n",
       "      <td>12.00000</td>\n",
       "      <td>0.000000</td>\n",
       "    </tr>\n",
       "    <tr>\n",
       "      <th>25%</th>\n",
       "      <td>2877.500000</td>\n",
       "      <td>0.000000</td>\n",
       "      <td>100.000000</td>\n",
       "      <td>360.00000</td>\n",
       "      <td>1.000000</td>\n",
       "    </tr>\n",
       "    <tr>\n",
       "      <th>50%</th>\n",
       "      <td>3812.500000</td>\n",
       "      <td>1188.500000</td>\n",
       "      <td>128.000000</td>\n",
       "      <td>360.00000</td>\n",
       "      <td>1.000000</td>\n",
       "    </tr>\n",
       "    <tr>\n",
       "      <th>75%</th>\n",
       "      <td>5795.000000</td>\n",
       "      <td>2297.250000</td>\n",
       "      <td>168.000000</td>\n",
       "      <td>360.00000</td>\n",
       "      <td>1.000000</td>\n",
       "    </tr>\n",
       "    <tr>\n",
       "      <th>max</th>\n",
       "      <td>81000.000000</td>\n",
       "      <td>41667.000000</td>\n",
       "      <td>700.000000</td>\n",
       "      <td>480.00000</td>\n",
       "      <td>1.000000</td>\n",
       "    </tr>\n",
       "  </tbody>\n",
       "</table>\n",
       "</div>"
      ],
      "text/plain": [
       "       ApplicantIncome  CoapplicantIncome  LoanAmount  Loan_Amount_Term  \\\n",
       "count       614.000000         614.000000  592.000000         600.00000   \n",
       "mean       5403.459283        1621.245798  146.412162         342.00000   \n",
       "std        6109.041673        2926.248369   85.587325          65.12041   \n",
       "min         150.000000           0.000000    9.000000          12.00000   \n",
       "25%        2877.500000           0.000000  100.000000         360.00000   \n",
       "50%        3812.500000        1188.500000  128.000000         360.00000   \n",
       "75%        5795.000000        2297.250000  168.000000         360.00000   \n",
       "max       81000.000000       41667.000000  700.000000         480.00000   \n",
       "\n",
       "       Credit_History  \n",
       "count      564.000000  \n",
       "mean         0.842199  \n",
       "std          0.364878  \n",
       "min          0.000000  \n",
       "25%          1.000000  \n",
       "50%          1.000000  \n",
       "75%          1.000000  \n",
       "max          1.000000  "
      ]
     },
     "execution_count": 7,
     "metadata": {},
     "output_type": "execute_result"
    }
   ],
   "source": [
    "# statical Measures\n",
    "\n",
    "df.describe()"
   ]
  },
  {
   "cell_type": "markdown",
   "id": "77cd03f5",
   "metadata": {
    "papermill": {
     "duration": 0.01295,
     "end_time": "2022-07-07T14:11:09.603861",
     "exception": false,
     "start_time": "2022-07-07T14:11:09.590911",
     "status": "completed"
    },
    "tags": []
   },
   "source": [
    "## Numerical columns\n",
    "* ApplicantIncome\n",
    "* CoapplicantIncome\n",
    "* LoanAmount\n",
    "* Loan_Amount_Term\n",
    "* Credit_History\n"
   ]
  },
  {
   "cell_type": "code",
   "execution_count": 8,
   "id": "17faefbc",
   "metadata": {
    "execution": {
     "iopub.execute_input": "2022-07-07T14:11:09.632901Z",
     "iopub.status.busy": "2022-07-07T14:11:09.632486Z",
     "iopub.status.idle": "2022-07-07T14:11:09.641871Z",
     "shell.execute_reply": "2022-07-07T14:11:09.641080Z"
    },
    "papermill": {
     "duration": 0.026755,
     "end_time": "2022-07-07T14:11:09.644092",
     "exception": false,
     "start_time": "2022-07-07T14:11:09.617337",
     "status": "completed"
    },
    "tags": []
   },
   "outputs": [
    {
     "data": {
      "text/plain": [
       "Loan_ID               0\n",
       "Gender               13\n",
       "Married               3\n",
       "Dependents           15\n",
       "Education             0\n",
       "Self_Employed        32\n",
       "ApplicantIncome       0\n",
       "CoapplicantIncome     0\n",
       "LoanAmount           22\n",
       "Loan_Amount_Term     14\n",
       "Credit_History       50\n",
       "Property_Area         0\n",
       "Loan_Status           0\n",
       "dtype: int64"
      ]
     },
     "execution_count": 8,
     "metadata": {},
     "output_type": "execute_result"
    }
   ],
   "source": [
    "# Number of Missing values in each columns\n",
    "\n",
    "df.isnull().sum()"
   ]
  },
  {
   "cell_type": "code",
   "execution_count": 9,
   "id": "09df7da6",
   "metadata": {
    "execution": {
     "iopub.execute_input": "2022-07-07T14:11:09.673104Z",
     "iopub.status.busy": "2022-07-07T14:11:09.672030Z",
     "iopub.status.idle": "2022-07-07T14:11:09.681133Z",
     "shell.execute_reply": "2022-07-07T14:11:09.680049Z"
    },
    "papermill": {
     "duration": 0.026142,
     "end_time": "2022-07-07T14:11:09.683601",
     "exception": false,
     "start_time": "2022-07-07T14:11:09.657459",
     "status": "completed"
    },
    "tags": []
   },
   "outputs": [],
   "source": [
    "df = df.dropna()"
   ]
  },
  {
   "cell_type": "code",
   "execution_count": 10,
   "id": "e1a61e69",
   "metadata": {
    "execution": {
     "iopub.execute_input": "2022-07-07T14:11:09.712976Z",
     "iopub.status.busy": "2022-07-07T14:11:09.712578Z",
     "iopub.status.idle": "2022-07-07T14:11:09.722276Z",
     "shell.execute_reply": "2022-07-07T14:11:09.721236Z"
    },
    "papermill": {
     "duration": 0.026948,
     "end_time": "2022-07-07T14:11:09.724603",
     "exception": false,
     "start_time": "2022-07-07T14:11:09.697655",
     "status": "completed"
    },
    "tags": []
   },
   "outputs": [
    {
     "data": {
      "text/plain": [
       "Loan_ID              0\n",
       "Gender               0\n",
       "Married              0\n",
       "Dependents           0\n",
       "Education            0\n",
       "Self_Employed        0\n",
       "ApplicantIncome      0\n",
       "CoapplicantIncome    0\n",
       "LoanAmount           0\n",
       "Loan_Amount_Term     0\n",
       "Credit_History       0\n",
       "Property_Area        0\n",
       "Loan_Status          0\n",
       "dtype: int64"
      ]
     },
     "execution_count": 10,
     "metadata": {},
     "output_type": "execute_result"
    }
   ],
   "source": [
    "df.isnull().sum()"
   ]
  },
  {
   "cell_type": "code",
   "execution_count": 11,
   "id": "a21beff0",
   "metadata": {
    "execution": {
     "iopub.execute_input": "2022-07-07T14:11:09.753842Z",
     "iopub.status.busy": "2022-07-07T14:11:09.753482Z",
     "iopub.status.idle": "2022-07-07T14:11:09.758897Z",
     "shell.execute_reply": "2022-07-07T14:11:09.758165Z"
    },
    "papermill": {
     "duration": 0.02228,
     "end_time": "2022-07-07T14:11:09.760712",
     "exception": false,
     "start_time": "2022-07-07T14:11:09.738432",
     "status": "completed"
    },
    "tags": []
   },
   "outputs": [
    {
     "data": {
      "text/plain": [
       "(480, 13)"
      ]
     },
     "execution_count": 11,
     "metadata": {},
     "output_type": "execute_result"
    }
   ],
   "source": [
    "df.shape"
   ]
  },
  {
   "cell_type": "code",
   "execution_count": 12,
   "id": "ed9892a4",
   "metadata": {
    "execution": {
     "iopub.execute_input": "2022-07-07T14:11:09.790848Z",
     "iopub.status.busy": "2022-07-07T14:11:09.790148Z",
     "iopub.status.idle": "2022-07-07T14:11:09.796725Z",
     "shell.execute_reply": "2022-07-07T14:11:09.795932Z"
    },
    "papermill": {
     "duration": 0.023775,
     "end_time": "2022-07-07T14:11:09.798829",
     "exception": false,
     "start_time": "2022-07-07T14:11:09.775054",
     "status": "completed"
    },
    "tags": []
   },
   "outputs": [],
   "source": [
    "# label encoding\n",
    "\n",
    "df.replace({'Loan_Status':{'N':0,'Y':1}}, inplace=True)"
   ]
  },
  {
   "cell_type": "code",
   "execution_count": 13,
   "id": "5c161455",
   "metadata": {
    "execution": {
     "iopub.execute_input": "2022-07-07T14:11:09.828276Z",
     "iopub.status.busy": "2022-07-07T14:11:09.827559Z",
     "iopub.status.idle": "2022-07-07T14:11:09.845287Z",
     "shell.execute_reply": "2022-07-07T14:11:09.844486Z"
    },
    "papermill": {
     "duration": 0.034735,
     "end_time": "2022-07-07T14:11:09.847236",
     "exception": false,
     "start_time": "2022-07-07T14:11:09.812501",
     "status": "completed"
    },
    "tags": []
   },
   "outputs": [
    {
     "data": {
      "text/html": [
       "<div>\n",
       "<style scoped>\n",
       "    .dataframe tbody tr th:only-of-type {\n",
       "        vertical-align: middle;\n",
       "    }\n",
       "\n",
       "    .dataframe tbody tr th {\n",
       "        vertical-align: top;\n",
       "    }\n",
       "\n",
       "    .dataframe thead th {\n",
       "        text-align: right;\n",
       "    }\n",
       "</style>\n",
       "<table border=\"1\" class=\"dataframe\">\n",
       "  <thead>\n",
       "    <tr style=\"text-align: right;\">\n",
       "      <th></th>\n",
       "      <th>Loan_ID</th>\n",
       "      <th>Gender</th>\n",
       "      <th>Married</th>\n",
       "      <th>Dependents</th>\n",
       "      <th>Education</th>\n",
       "      <th>Self_Employed</th>\n",
       "      <th>ApplicantIncome</th>\n",
       "      <th>CoapplicantIncome</th>\n",
       "      <th>LoanAmount</th>\n",
       "      <th>Loan_Amount_Term</th>\n",
       "      <th>Credit_History</th>\n",
       "      <th>Property_Area</th>\n",
       "      <th>Loan_Status</th>\n",
       "    </tr>\n",
       "  </thead>\n",
       "  <tbody>\n",
       "    <tr>\n",
       "      <th>1</th>\n",
       "      <td>LP001003</td>\n",
       "      <td>Male</td>\n",
       "      <td>Yes</td>\n",
       "      <td>1</td>\n",
       "      <td>Graduate</td>\n",
       "      <td>No</td>\n",
       "      <td>4583</td>\n",
       "      <td>1508.0</td>\n",
       "      <td>128.0</td>\n",
       "      <td>360.0</td>\n",
       "      <td>1.0</td>\n",
       "      <td>Rural</td>\n",
       "      <td>0</td>\n",
       "    </tr>\n",
       "    <tr>\n",
       "      <th>2</th>\n",
       "      <td>LP001005</td>\n",
       "      <td>Male</td>\n",
       "      <td>Yes</td>\n",
       "      <td>0</td>\n",
       "      <td>Graduate</td>\n",
       "      <td>Yes</td>\n",
       "      <td>3000</td>\n",
       "      <td>0.0</td>\n",
       "      <td>66.0</td>\n",
       "      <td>360.0</td>\n",
       "      <td>1.0</td>\n",
       "      <td>Urban</td>\n",
       "      <td>1</td>\n",
       "    </tr>\n",
       "    <tr>\n",
       "      <th>3</th>\n",
       "      <td>LP001006</td>\n",
       "      <td>Male</td>\n",
       "      <td>Yes</td>\n",
       "      <td>0</td>\n",
       "      <td>Not Graduate</td>\n",
       "      <td>No</td>\n",
       "      <td>2583</td>\n",
       "      <td>2358.0</td>\n",
       "      <td>120.0</td>\n",
       "      <td>360.0</td>\n",
       "      <td>1.0</td>\n",
       "      <td>Urban</td>\n",
       "      <td>1</td>\n",
       "    </tr>\n",
       "    <tr>\n",
       "      <th>4</th>\n",
       "      <td>LP001008</td>\n",
       "      <td>Male</td>\n",
       "      <td>No</td>\n",
       "      <td>0</td>\n",
       "      <td>Graduate</td>\n",
       "      <td>No</td>\n",
       "      <td>6000</td>\n",
       "      <td>0.0</td>\n",
       "      <td>141.0</td>\n",
       "      <td>360.0</td>\n",
       "      <td>1.0</td>\n",
       "      <td>Urban</td>\n",
       "      <td>1</td>\n",
       "    </tr>\n",
       "    <tr>\n",
       "      <th>5</th>\n",
       "      <td>LP001011</td>\n",
       "      <td>Male</td>\n",
       "      <td>Yes</td>\n",
       "      <td>2</td>\n",
       "      <td>Graduate</td>\n",
       "      <td>Yes</td>\n",
       "      <td>5417</td>\n",
       "      <td>4196.0</td>\n",
       "      <td>267.0</td>\n",
       "      <td>360.0</td>\n",
       "      <td>1.0</td>\n",
       "      <td>Urban</td>\n",
       "      <td>1</td>\n",
       "    </tr>\n",
       "  </tbody>\n",
       "</table>\n",
       "</div>"
      ],
      "text/plain": [
       "    Loan_ID Gender Married Dependents     Education Self_Employed  \\\n",
       "1  LP001003   Male     Yes          1      Graduate            No   \n",
       "2  LP001005   Male     Yes          0      Graduate           Yes   \n",
       "3  LP001006   Male     Yes          0  Not Graduate            No   \n",
       "4  LP001008   Male      No          0      Graduate            No   \n",
       "5  LP001011   Male     Yes          2      Graduate           Yes   \n",
       "\n",
       "   ApplicantIncome  CoapplicantIncome  LoanAmount  Loan_Amount_Term  \\\n",
       "1             4583             1508.0       128.0             360.0   \n",
       "2             3000                0.0        66.0             360.0   \n",
       "3             2583             2358.0       120.0             360.0   \n",
       "4             6000                0.0       141.0             360.0   \n",
       "5             5417             4196.0       267.0             360.0   \n",
       "\n",
       "   Credit_History Property_Area  Loan_Status  \n",
       "1             1.0         Rural            0  \n",
       "2             1.0         Urban            1  \n",
       "3             1.0         Urban            1  \n",
       "4             1.0         Urban            1  \n",
       "5             1.0         Urban            1  "
      ]
     },
     "execution_count": 13,
     "metadata": {},
     "output_type": "execute_result"
    }
   ],
   "source": [
    "df.head(5)"
   ]
  },
  {
   "cell_type": "code",
   "execution_count": 14,
   "id": "0f0e29e0",
   "metadata": {
    "execution": {
     "iopub.execute_input": "2022-07-07T14:11:09.878538Z",
     "iopub.status.busy": "2022-07-07T14:11:09.877845Z",
     "iopub.status.idle": "2022-07-07T14:11:09.885814Z",
     "shell.execute_reply": "2022-07-07T14:11:09.885033Z"
    },
    "papermill": {
     "duration": 0.026011,
     "end_time": "2022-07-07T14:11:09.887910",
     "exception": false,
     "start_time": "2022-07-07T14:11:09.861899",
     "status": "completed"
    },
    "tags": []
   },
   "outputs": [
    {
     "data": {
      "text/plain": [
       "0     274\n",
       "2      85\n",
       "1      80\n",
       "3+     41\n",
       "Name: Dependents, dtype: int64"
      ]
     },
     "execution_count": 14,
     "metadata": {},
     "output_type": "execute_result"
    }
   ],
   "source": [
    "# Dependent column values\n",
    "\n",
    "df['Dependents'].value_counts()"
   ]
  },
  {
   "cell_type": "code",
   "execution_count": 15,
   "id": "0ba035e8",
   "metadata": {
    "execution": {
     "iopub.execute_input": "2022-07-07T14:11:09.918948Z",
     "iopub.status.busy": "2022-07-07T14:11:09.918215Z",
     "iopub.status.idle": "2022-07-07T14:11:09.924290Z",
     "shell.execute_reply": "2022-07-07T14:11:09.923359Z"
    },
    "papermill": {
     "duration": 0.024134,
     "end_time": "2022-07-07T14:11:09.926516",
     "exception": false,
     "start_time": "2022-07-07T14:11:09.902382",
     "status": "completed"
    },
    "tags": []
   },
   "outputs": [],
   "source": [
    "# Replacing the values for 3+ to 4\n",
    "df.replace(to_replace='3+',value=4, inplace=True)"
   ]
  },
  {
   "cell_type": "code",
   "execution_count": 16,
   "id": "91f6221b",
   "metadata": {
    "execution": {
     "iopub.execute_input": "2022-07-07T14:11:09.957315Z",
     "iopub.status.busy": "2022-07-07T14:11:09.956628Z",
     "iopub.status.idle": "2022-07-07T14:11:09.964410Z",
     "shell.execute_reply": "2022-07-07T14:11:09.963593Z"
    },
    "papermill": {
     "duration": 0.025601,
     "end_time": "2022-07-07T14:11:09.966339",
     "exception": false,
     "start_time": "2022-07-07T14:11:09.940738",
     "status": "completed"
    },
    "tags": []
   },
   "outputs": [
    {
     "data": {
      "text/plain": [
       "0    274\n",
       "2     85\n",
       "1     80\n",
       "4     41\n",
       "Name: Dependents, dtype: int64"
      ]
     },
     "execution_count": 16,
     "metadata": {},
     "output_type": "execute_result"
    }
   ],
   "source": [
    "df['Dependents'].value_counts()"
   ]
  },
  {
   "cell_type": "markdown",
   "id": "05243615",
   "metadata": {
    "papermill": {
     "duration": 0.013848,
     "end_time": "2022-07-07T14:11:09.994800",
     "exception": false,
     "start_time": "2022-07-07T14:11:09.980952",
     "status": "completed"
    },
    "tags": []
   },
   "source": [
    "# Data visualization"
   ]
  },
  {
   "cell_type": "code",
   "execution_count": 17,
   "id": "2064f8b5",
   "metadata": {
    "execution": {
     "iopub.execute_input": "2022-07-07T14:11:10.026735Z",
     "iopub.status.busy": "2022-07-07T14:11:10.026058Z",
     "iopub.status.idle": "2022-07-07T14:11:10.199583Z",
     "shell.execute_reply": "2022-07-07T14:11:10.198376Z"
    },
    "papermill": {
     "duration": 0.19222,
     "end_time": "2022-07-07T14:11:10.202079",
     "exception": false,
     "start_time": "2022-07-07T14:11:10.009859",
     "status": "completed"
    },
    "tags": []
   },
   "outputs": [
    {
     "data": {
      "text/plain": [
       "<AxesSubplot:xlabel='Education', ylabel='count'>"
      ]
     },
     "execution_count": 17,
     "metadata": {},
     "output_type": "execute_result"
    },
    {
     "data": {
      "image/png": "[encoded data removed]",
      "text/plain": [
       "<Figure size 432x288 with 1 Axes>"
      ]
     },
     "metadata": {
      "needs_background": "light"
     },
     "output_type": "display_data"
    }
   ],
   "source": [
    "# education and Loan Status\n",
    "\n",
    "sns.countplot(x='Education',hue='Loan_Status', data=df)"
   ]
  },
  {
   "cell_type": "code",
   "execution_count": 18,
   "id": "073f1f06",
   "metadata": {
    "execution": {
     "iopub.execute_input": "2022-07-07T14:11:10.233643Z",
     "iopub.status.busy": "2022-07-07T14:11:10.232461Z",
     "iopub.status.idle": "2022-07-07T14:11:10.365278Z",
     "shell.execute_reply": "2022-07-07T14:11:10.364127Z"
    },
    "papermill": {
     "duration": 0.151937,
     "end_time": "2022-07-07T14:11:10.368644",
     "exception": false,
     "start_time": "2022-07-07T14:11:10.216707",
     "status": "completed"
    },
    "tags": []
   },
   "outputs": [
    {
     "data": {
      "text/plain": [
       "<AxesSubplot:xlabel='Married', ylabel='count'>"
      ]
     },
     "execution_count": 18,
     "metadata": {},
     "output_type": "execute_result"
    },
    {
     "data": {
      "image/png": "[encoded data removed]",
      "text/plain": [
       "<Figure size 432x288 with 1 Axes>"
      ]
     },
     "metadata": {
      "needs_background": "light"
     },
     "output_type": "display_data"
    }
   ],
   "source": [
    "# marital status and Loan status\n",
    "\n",
    "sns.countplot(x='Married',hue='Loan_Status', data=df)"
   ]
  },
  {
   "cell_type": "code",
   "execution_count": 19,
   "id": "5f7d4094",
   "metadata": {
    "execution": {
     "iopub.execute_input": "2022-07-07T14:11:10.412230Z",
     "iopub.status.busy": "2022-07-07T14:11:10.411441Z",
     "iopub.status.idle": "2022-07-07T14:11:10.597137Z",
     "shell.execute_reply": "2022-07-07T14:11:10.596045Z"
    },
    "papermill": {
     "duration": 0.204679,
     "end_time": "2022-07-07T14:11:10.599718",
     "exception": false,
     "start_time": "2022-07-07T14:11:10.395039",
     "status": "completed"
    },
    "tags": []
   },
   "outputs": [
    {
     "data": {
      "text/plain": [
       "<AxesSubplot:xlabel='Gender', ylabel='count'>"
      ]
     },
     "execution_count": 19,
     "metadata": {},
     "output_type": "execute_result"
    },
    {
     "data": {
      "image/png": "[encoded data removed]",
      "text/plain": [
       "<Figure size 432x288 with 1 Axes>"
      ]
     },
     "metadata": {
      "needs_background": "light"
     },
     "output_type": "display_data"
    }
   ],
   "source": [
    "# Gender and Loan Status\n",
    "sns.countplot(x='Gender',hue='Loan_Status', data=df)"
   ]
  },
  {
   "cell_type": "code",
   "execution_count": 20,
   "id": "60fa0d70",
   "metadata": {
    "execution": {
     "iopub.execute_input": "2022-07-07T14:11:10.632908Z",
     "iopub.status.busy": "2022-07-07T14:11:10.632377Z",
     "iopub.status.idle": "2022-07-07T14:11:10.845442Z",
     "shell.execute_reply": "2022-07-07T14:11:10.844264Z"
    },
    "papermill": {
     "duration": 0.232802,
     "end_time": "2022-07-07T14:11:10.847976",
     "exception": false,
     "start_time": "2022-07-07T14:11:10.615174",
     "status": "completed"
    },
    "tags": []
   },
   "outputs": [
    {
     "data": {
      "text/plain": [
       "<AxesSubplot:xlabel='Dependents', ylabel='count'>"
      ]
     },
     "execution_count": 20,
     "metadata": {},
     "output_type": "execute_result"
    },
    {
     "data": {
      "image/png": "[encoded data removed]",
      "text/plain": [
       "<Figure size 432x288 with 1 Axes>"
      ]
     },
     "metadata": {
      "needs_background": "light"
     },
     "output_type": "display_data"
    }
   ],
   "source": [
    "# Dependents and Loan Status\n",
    "\n",
    "sns.countplot(x='Dependents',hue='Loan_Status', data=df)"
   ]
  },
  {
   "cell_type": "code",
   "execution_count": 21,
   "id": "b70d25a8",
   "metadata": {
    "execution": {
     "iopub.execute_input": "2022-07-07T14:11:10.882250Z",
     "iopub.status.busy": "2022-07-07T14:11:10.881232Z",
     "iopub.status.idle": "2022-07-07T14:11:11.022633Z",
     "shell.execute_reply": "2022-07-07T14:11:11.021539Z"
    },
    "papermill": {
     "duration": 0.161302,
     "end_time": "2022-07-07T14:11:11.025363",
     "exception": false,
     "start_time": "2022-07-07T14:11:10.864061",
     "status": "completed"
    },
    "tags": []
   },
   "outputs": [
    {
     "data": {
      "text/plain": [
       "<AxesSubplot:xlabel='Self_Employed', ylabel='count'>"
      ]
     },
     "execution_count": 21,
     "metadata": {},
     "output_type": "execute_result"
    },
    {
     "data": {
      "image/png": "[encoded data removed]",
      "text/plain": [
       "<Figure size 432x288 with 1 Axes>"
      ]
     },
     "metadata": {
      "needs_background": "light"
     },
     "output_type": "display_data"
    }
   ],
   "source": [
    "# Self_Employed and Loan Status\n",
    "\n",
    "sns.countplot(x='Self_Employed',hue='Loan_Status', data=df)"
   ]
  },
  {
   "cell_type": "code",
   "execution_count": 22,
   "id": "1e4e65c9",
   "metadata": {
    "execution": {
     "iopub.execute_input": "2022-07-07T14:11:11.059684Z",
     "iopub.status.busy": "2022-07-07T14:11:11.059275Z",
     "iopub.status.idle": "2022-07-07T14:11:11.072414Z",
     "shell.execute_reply": "2022-07-07T14:11:11.071356Z"
    },
    "papermill": {
     "duration": 0.032719,
     "end_time": "2022-07-07T14:11:11.074582",
     "exception": false,
     "start_time": "2022-07-07T14:11:11.041863",
     "status": "completed"
    },
    "tags": []
   },
   "outputs": [],
   "source": [
    "# convert categorical columns to numerical values\n",
    "\n",
    "df['Married'] = df['Married'].map({'Yes':1,'No':0})\n",
    "df['Gender'] = df['Gender'].map({'Male':1,'Female':0})\n",
    "df['Self_Employed'] = df['Self_Employed'].map({'Yes':1,'No':0})\n",
    "df['Property_Area'] = df['Property_Area'].map({'Rural':0,'Semiurban':1,'Urban':2})\n",
    "df['Education'] = df['Education'].map({'Graduate':1,'Not Graduate':0})"
   ]
  },
  {
   "cell_type": "code",
   "execution_count": 23,
   "id": "67eda309",
   "metadata": {
    "execution": {
     "iopub.execute_input": "2022-07-07T14:11:11.108802Z",
     "iopub.status.busy": "2022-07-07T14:11:11.108137Z",
     "iopub.status.idle": "2022-07-07T14:11:11.124869Z",
     "shell.execute_reply": "2022-07-07T14:11:11.124124Z"
    },
    "papermill": {
     "duration": 0.035972,
     "end_time": "2022-07-07T14:11:11.126874",
     "exception": false,
     "start_time": "2022-07-07T14:11:11.090902",
     "status": "completed"
    },
    "tags": []
   },
   "outputs": [
    {
     "data": {
      "text/html": [
       "<div>\n",
       "<style scoped>\n",
       "    .dataframe tbody tr th:only-of-type {\n",
       "        vertical-align: middle;\n",
       "    }\n",
       "\n",
       "    .dataframe tbody tr th {\n",
       "        vertical-align: top;\n",
       "    }\n",
       "\n",
       "    .dataframe thead th {\n",
       "        text-align: right;\n",
       "    }\n",
       "</style>\n",
       "<table border=\"1\" class=\"dataframe\">\n",
       "  <thead>\n",
       "    <tr style=\"text-align: right;\">\n",
       "      <th></th>\n",
       "      <th>Loan_ID</th>\n",
       "      <th>Gender</th>\n",
       "      <th>Married</th>\n",
       "      <th>Dependents</th>\n",
       "      <th>Education</th>\n",
       "      <th>Self_Employed</th>\n",
       "      <th>ApplicantIncome</th>\n",
       "      <th>CoapplicantIncome</th>\n",
       "      <th>LoanAmount</th>\n",
       "      <th>Loan_Amount_Term</th>\n",
       "      <th>Credit_History</th>\n",
       "      <th>Property_Area</th>\n",
       "      <th>Loan_Status</th>\n",
       "    </tr>\n",
       "  </thead>\n",
       "  <tbody>\n",
       "    <tr>\n",
       "      <th>1</th>\n",
       "      <td>LP001003</td>\n",
       "      <td>1</td>\n",
       "      <td>1</td>\n",
       "      <td>1</td>\n",
       "      <td>1</td>\n",
       "      <td>0</td>\n",
       "      <td>4583</td>\n",
       "      <td>1508.0</td>\n",
       "      <td>128.0</td>\n",
       "      <td>360.0</td>\n",
       "      <td>1.0</td>\n",
       "      <td>0</td>\n",
       "      <td>0</td>\n",
       "    </tr>\n",
       "    <tr>\n",
       "      <th>2</th>\n",
       "      <td>LP001005</td>\n",
       "      <td>1</td>\n",
       "      <td>1</td>\n",
       "      <td>0</td>\n",
       "      <td>1</td>\n",
       "      <td>1</td>\n",
       "      <td>3000</td>\n",
       "      <td>0.0</td>\n",
       "      <td>66.0</td>\n",
       "      <td>360.0</td>\n",
       "      <td>1.0</td>\n",
       "      <td>2</td>\n",
       "      <td>1</td>\n",
       "    </tr>\n",
       "    <tr>\n",
       "      <th>3</th>\n",
       "      <td>LP001006</td>\n",
       "      <td>1</td>\n",
       "      <td>1</td>\n",
       "      <td>0</td>\n",
       "      <td>0</td>\n",
       "      <td>0</td>\n",
       "      <td>2583</td>\n",
       "      <td>2358.0</td>\n",
       "      <td>120.0</td>\n",
       "      <td>360.0</td>\n",
       "      <td>1.0</td>\n",
       "      <td>2</td>\n",
       "      <td>1</td>\n",
       "    </tr>\n",
       "    <tr>\n",
       "      <th>4</th>\n",
       "      <td>LP001008</td>\n",
       "      <td>1</td>\n",
       "      <td>0</td>\n",
       "      <td>0</td>\n",
       "      <td>1</td>\n",
       "      <td>0</td>\n",
       "      <td>6000</td>\n",
       "      <td>0.0</td>\n",
       "      <td>141.0</td>\n",
       "      <td>360.0</td>\n",
       "      <td>1.0</td>\n",
       "      <td>2</td>\n",
       "      <td>1</td>\n",
       "    </tr>\n",
       "    <tr>\n",
       "      <th>5</th>\n",
       "      <td>LP001011</td>\n",
       "      <td>1</td>\n",
       "      <td>1</td>\n",
       "      <td>2</td>\n",
       "      <td>1</td>\n",
       "      <td>1</td>\n",
       "      <td>5417</td>\n",
       "      <td>4196.0</td>\n",
       "      <td>267.0</td>\n",
       "      <td>360.0</td>\n",
       "      <td>1.0</td>\n",
       "      <td>2</td>\n",
       "      <td>1</td>\n",
       "    </tr>\n",
       "  </tbody>\n",
       "</table>\n",
       "</div>"
      ],
      "text/plain": [
       "    Loan_ID  Gender  Married Dependents  Education  Self_Employed  \\\n",
       "1  LP001003       1        1          1          1              0   \n",
       "2  LP001005       1        1          0          1              1   \n",
       "3  LP001006       1        1          0          0              0   \n",
       "4  LP001008       1        0          0          1              0   \n",
       "5  LP001011       1        1          2          1              1   \n",
       "\n",
       "   ApplicantIncome  CoapplicantIncome  LoanAmount  Loan_Amount_Term  \\\n",
       "1             4583             1508.0       128.0             360.0   \n",
       "2             3000                0.0        66.0             360.0   \n",
       "3             2583             2358.0       120.0             360.0   \n",
       "4             6000                0.0       141.0             360.0   \n",
       "5             5417             4196.0       267.0             360.0   \n",
       "\n",
       "   Credit_History  Property_Area  Loan_Status  \n",
       "1             1.0              0            0  \n",
       "2             1.0              2            1  \n",
       "3             1.0              2            1  \n",
       "4             1.0              2            1  \n",
       "5             1.0              2            1  "
      ]
     },
     "execution_count": 23,
     "metadata": {},
     "output_type": "execute_result"
    }
   ],
   "source": [
    "df.head()"
   ]
  },
  {
   "cell_type": "code",
   "execution_count": 24,
   "id": "d46635f5",
   "metadata": {
    "execution": {
     "iopub.execute_input": "2022-07-07T14:11:11.162097Z",
     "iopub.status.busy": "2022-07-07T14:11:11.161433Z",
     "iopub.status.idle": "2022-07-07T14:11:11.167214Z",
     "shell.execute_reply": "2022-07-07T14:11:11.166403Z"
    },
    "papermill": {
     "duration": 0.025752,
     "end_time": "2022-07-07T14:11:11.169435",
     "exception": false,
     "start_time": "2022-07-07T14:11:11.143683",
     "status": "completed"
    },
    "tags": []
   },
   "outputs": [],
   "source": [
    "# separating the data and label\n",
    "\n",
    "X = df.drop(columns=['Loan_ID','Loan_Status'])\n",
    "y = df.Loan_Status"
   ]
  },
  {
   "cell_type": "code",
   "execution_count": 25,
   "id": "a9ee67c7",
   "metadata": {
    "execution": {
     "iopub.execute_input": "2022-07-07T14:11:11.204147Z",
     "iopub.status.busy": "2022-07-07T14:11:11.203469Z",
     "iopub.status.idle": "2022-07-07T14:11:11.219986Z",
     "shell.execute_reply": "2022-07-07T14:11:11.218873Z"
    },
    "papermill": {
     "duration": 0.036502,
     "end_time": "2022-07-07T14:11:11.222373",
     "exception": false,
     "start_time": "2022-07-07T14:11:11.185871",
     "status": "completed"
    },
    "tags": []
   },
   "outputs": [
    {
     "data": {
      "text/html": [
       "<div>\n",
       "<style scoped>\n",
       "    .dataframe tbody tr th:only-of-type {\n",
       "        vertical-align: middle;\n",
       "    }\n",
       "\n",
       "    .dataframe tbody tr th {\n",
       "        vertical-align: top;\n",
       "    }\n",
       "\n",
       "    .dataframe thead th {\n",
       "        text-align: right;\n",
       "    }\n",
       "</style>\n",
       "<table border=\"1\" class=\"dataframe\">\n",
       "  <thead>\n",
       "    <tr style=\"text-align: right;\">\n",
       "      <th></th>\n",
       "      <th>Gender</th>\n",
       "      <th>Married</th>\n",
       "      <th>Dependents</th>\n",
       "      <th>Education</th>\n",
       "      <th>Self_Employed</th>\n",
       "      <th>ApplicantIncome</th>\n",
       "      <th>CoapplicantIncome</th>\n",
       "      <th>LoanAmount</th>\n",
       "      <th>Loan_Amount_Term</th>\n",
       "      <th>Credit_History</th>\n",
       "      <th>Property_Area</th>\n",
       "    </tr>\n",
       "  </thead>\n",
       "  <tbody>\n",
       "    <tr>\n",
       "      <th>1</th>\n",
       "      <td>1</td>\n",
       "      <td>1</td>\n",
       "      <td>1</td>\n",
       "      <td>1</td>\n",
       "      <td>0</td>\n",
       "      <td>4583</td>\n",
       "      <td>1508.0</td>\n",
       "      <td>128.0</td>\n",
       "      <td>360.0</td>\n",
       "      <td>1.0</td>\n",
       "      <td>0</td>\n",
       "    </tr>\n",
       "    <tr>\n",
       "      <th>2</th>\n",
       "      <td>1</td>\n",
       "      <td>1</td>\n",
       "      <td>0</td>\n",
       "      <td>1</td>\n",
       "      <td>1</td>\n",
       "      <td>3000</td>\n",
       "      <td>0.0</td>\n",
       "      <td>66.0</td>\n",
       "      <td>360.0</td>\n",
       "      <td>1.0</td>\n",
       "      <td>2</td>\n",
       "    </tr>\n",
       "    <tr>\n",
       "      <th>3</th>\n",
       "      <td>1</td>\n",
       "      <td>1</td>\n",
       "      <td>0</td>\n",
       "      <td>0</td>\n",
       "      <td>0</td>\n",
       "      <td>2583</td>\n",
       "      <td>2358.0</td>\n",
       "      <td>120.0</td>\n",
       "      <td>360.0</td>\n",
       "      <td>1.0</td>\n",
       "      <td>2</td>\n",
       "    </tr>\n",
       "    <tr>\n",
       "      <th>4</th>\n",
       "      <td>1</td>\n",
       "      <td>0</td>\n",
       "      <td>0</td>\n",
       "      <td>1</td>\n",
       "      <td>0</td>\n",
       "      <td>6000</td>\n",
       "      <td>0.0</td>\n",
       "      <td>141.0</td>\n",
       "      <td>360.0</td>\n",
       "      <td>1.0</td>\n",
       "      <td>2</td>\n",
       "    </tr>\n",
       "    <tr>\n",
       "      <th>5</th>\n",
       "      <td>1</td>\n",
       "      <td>1</td>\n",
       "      <td>2</td>\n",
       "      <td>1</td>\n",
       "      <td>1</td>\n",
       "      <td>5417</td>\n",
       "      <td>4196.0</td>\n",
       "      <td>267.0</td>\n",
       "      <td>360.0</td>\n",
       "      <td>1.0</td>\n",
       "      <td>2</td>\n",
       "    </tr>\n",
       "  </tbody>\n",
       "</table>\n",
       "</div>"
      ],
      "text/plain": [
       "   Gender  Married Dependents  Education  Self_Employed  ApplicantIncome  \\\n",
       "1       1        1          1          1              0             4583   \n",
       "2       1        1          0          1              1             3000   \n",
       "3       1        1          0          0              0             2583   \n",
       "4       1        0          0          1              0             6000   \n",
       "5       1        1          2          1              1             5417   \n",
       "\n",
       "   CoapplicantIncome  LoanAmount  Loan_Amount_Term  Credit_History  \\\n",
       "1             1508.0       128.0             360.0             1.0   \n",
       "2                0.0        66.0             360.0             1.0   \n",
       "3             2358.0       120.0             360.0             1.0   \n",
       "4                0.0       141.0             360.0             1.0   \n",
       "5             4196.0       267.0             360.0             1.0   \n",
       "\n",
       "   Property_Area  \n",
       "1              0  \n",
       "2              2  \n",
       "3              2  \n",
       "4              2  \n",
       "5              2  "
      ]
     },
     "execution_count": 25,
     "metadata": {},
     "output_type": "execute_result"
    }
   ],
   "source": [
    "X.head()"
   ]
  },
  {
   "cell_type": "code",
   "execution_count": 26,
   "id": "0f06903e",
   "metadata": {
    "execution": {
     "iopub.execute_input": "2022-07-07T14:11:11.257678Z",
     "iopub.status.busy": "2022-07-07T14:11:11.256906Z",
     "iopub.status.idle": "2022-07-07T14:11:11.264621Z",
     "shell.execute_reply": "2022-07-07T14:11:11.263749Z"
    },
    "papermill": {
     "duration": 0.0279,
     "end_time": "2022-07-07T14:11:11.266834",
     "exception": false,
     "start_time": "2022-07-07T14:11:11.238934",
     "status": "completed"
    },
    "tags": []
   },
   "outputs": [
    {
     "data": {
      "text/plain": [
       "1    0\n",
       "2    1\n",
       "3    1\n",
       "4    1\n",
       "5    1\n",
       "Name: Loan_Status, dtype: int64"
      ]
     },
     "execution_count": 26,
     "metadata": {},
     "output_type": "execute_result"
    }
   ],
   "source": [
    "y.head()"
   ]
  },
  {
   "cell_type": "markdown",
   "id": "6118cb2d",
   "metadata": {
    "papermill": {
     "duration": 0.016402,
     "end_time": "2022-07-07T14:11:11.299851",
     "exception": false,
     "start_time": "2022-07-07T14:11:11.283449",
     "status": "completed"
    },
    "tags": []
   },
   "source": [
    "# Data Standardization"
   ]
  },
  {
   "cell_type": "code",
   "execution_count": 27,
   "id": "3668d7d9",
   "metadata": {
    "execution": {
     "iopub.execute_input": "2022-07-07T14:11:11.335036Z",
     "iopub.status.busy": "2022-07-07T14:11:11.334633Z",
     "iopub.status.idle": "2022-07-07T14:11:11.339904Z",
     "shell.execute_reply": "2022-07-07T14:11:11.339083Z"
    },
    "papermill": {
     "duration": 0.025462,
     "end_time": "2022-07-07T14:11:11.342174",
     "exception": false,
     "start_time": "2022-07-07T14:11:11.316712",
     "status": "completed"
    },
    "tags": []
   },
   "outputs": [],
   "source": [
    "from sklearn.preprocessing import StandardScaler"
   ]
  },
  {
   "cell_type": "code",
   "execution_count": 28,
   "id": "9f0779ef",
   "metadata": {
    "execution": {
     "iopub.execute_input": "2022-07-07T14:11:11.377141Z",
     "iopub.status.busy": "2022-07-07T14:11:11.376706Z",
     "iopub.status.idle": "2022-07-07T14:11:11.381163Z",
     "shell.execute_reply": "2022-07-07T14:11:11.380056Z"
    },
    "papermill": {
     "duration": 0.024715,
     "end_time": "2022-07-07T14:11:11.383411",
     "exception": false,
     "start_time": "2022-07-07T14:11:11.358696",
     "status": "completed"
    },
    "tags": []
   },
   "outputs": [],
   "source": [
    "scaler = StandardScaler()"
   ]
  },
  {
   "cell_type": "code",
   "execution_count": 29,
   "id": "9f656e6e",
   "metadata": {
    "execution": {
     "iopub.execute_input": "2022-07-07T14:11:11.418705Z",
     "iopub.status.busy": "2022-07-07T14:11:11.417933Z",
     "iopub.status.idle": "2022-07-07T14:11:11.428709Z",
     "shell.execute_reply": "2022-07-07T14:11:11.427741Z"
    },
    "papermill": {
     "duration": 0.031289,
     "end_time": "2022-07-07T14:11:11.431215",
     "exception": false,
     "start_time": "2022-07-07T14:11:11.399926",
     "status": "completed"
    },
    "tags": []
   },
   "outputs": [],
   "source": [
    "X_scaled = scaler.fit_transform(X)"
   ]
  },
  {
   "cell_type": "markdown",
   "id": "d1f7ff1f",
   "metadata": {
    "papermill": {
     "duration": 0.01739,
     "end_time": "2022-07-07T14:11:11.465855",
     "exception": false,
     "start_time": "2022-07-07T14:11:11.448465",
     "status": "completed"
    },
    "tags": []
   },
   "source": [
    "# Multi-colinearity (VIF)"
   ]
  },
  {
   "cell_type": "code",
   "execution_count": 30,
   "id": "ff7bc77c",
   "metadata": {
    "execution": {
     "iopub.execute_input": "2022-07-07T14:11:11.502628Z",
     "iopub.status.busy": "2022-07-07T14:11:11.501871Z",
     "iopub.status.idle": "2022-07-07T14:11:11.597087Z",
     "shell.execute_reply": "2022-07-07T14:11:11.596048Z"
    },
    "papermill": {
     "duration": 0.116079,
     "end_time": "2022-07-07T14:11:11.599671",
     "exception": false,
     "start_time": "2022-07-07T14:11:11.483592",
     "status": "completed"
    },
    "tags": []
   },
   "outputs": [],
   "source": [
    "from statsmodels.stats.outliers_influence import variance_inflation_factor"
   ]
  },
  {
   "cell_type": "code",
   "execution_count": 31,
   "id": "cefee15c",
   "metadata": {
    "execution": {
     "iopub.execute_input": "2022-07-07T14:11:11.635058Z",
     "iopub.status.busy": "2022-07-07T14:11:11.634622Z",
     "iopub.status.idle": "2022-07-07T14:11:11.677193Z",
     "shell.execute_reply": "2022-07-07T14:11:11.676122Z"
    },
    "papermill": {
     "duration": 0.062974,
     "end_time": "2022-07-07T14:11:11.679453",
     "exception": false,
     "start_time": "2022-07-07T14:11:11.616479",
     "status": "completed"
    },
    "tags": []
   },
   "outputs": [
    {
     "data": {
      "text/html": [
       "<div>\n",
       "<style scoped>\n",
       "    .dataframe tbody tr th:only-of-type {\n",
       "        vertical-align: middle;\n",
       "    }\n",
       "\n",
       "    .dataframe tbody tr th {\n",
       "        vertical-align: top;\n",
       "    }\n",
       "\n",
       "    .dataframe thead th {\n",
       "        text-align: right;\n",
       "    }\n",
       "</style>\n",
       "<table border=\"1\" class=\"dataframe\">\n",
       "  <thead>\n",
       "    <tr style=\"text-align: right;\">\n",
       "      <th></th>\n",
       "      <th>Vif</th>\n",
       "      <th>features</th>\n",
       "    </tr>\n",
       "  </thead>\n",
       "  <tbody>\n",
       "    <tr>\n",
       "      <th>0</th>\n",
       "      <td>1.181486</td>\n",
       "      <td>Gender</td>\n",
       "    </tr>\n",
       "    <tr>\n",
       "      <th>1</th>\n",
       "      <td>1.304776</td>\n",
       "      <td>Married</td>\n",
       "    </tr>\n",
       "    <tr>\n",
       "      <th>2</th>\n",
       "      <td>1.197062</td>\n",
       "      <td>Dependents</td>\n",
       "    </tr>\n",
       "    <tr>\n",
       "      <th>3</th>\n",
       "      <td>1.067544</td>\n",
       "      <td>Education</td>\n",
       "    </tr>\n",
       "    <tr>\n",
       "      <th>4</th>\n",
       "      <td>1.035767</td>\n",
       "      <td>Self_Employed</td>\n",
       "    </tr>\n",
       "    <tr>\n",
       "      <th>5</th>\n",
       "      <td>1.458116</td>\n",
       "      <td>ApplicantIncome</td>\n",
       "    </tr>\n",
       "    <tr>\n",
       "      <th>6</th>\n",
       "      <td>1.135441</td>\n",
       "      <td>CoapplicantIncome</td>\n",
       "    </tr>\n",
       "    <tr>\n",
       "      <th>7</th>\n",
       "      <td>1.541506</td>\n",
       "      <td>LoanAmount</td>\n",
       "    </tr>\n",
       "    <tr>\n",
       "      <th>8</th>\n",
       "      <td>1.040649</td>\n",
       "      <td>Loan_Amount_Term</td>\n",
       "    </tr>\n",
       "    <tr>\n",
       "      <th>9</th>\n",
       "      <td>1.013076</td>\n",
       "      <td>Credit_History</td>\n",
       "    </tr>\n",
       "    <tr>\n",
       "      <th>10</th>\n",
       "      <td>1.027857</td>\n",
       "      <td>Property_Area</td>\n",
       "    </tr>\n",
       "  </tbody>\n",
       "</table>\n",
       "</div>"
      ],
      "text/plain": [
       "         Vif           features\n",
       "0   1.181486             Gender\n",
       "1   1.304776            Married\n",
       "2   1.197062         Dependents\n",
       "3   1.067544          Education\n",
       "4   1.035767      Self_Employed\n",
       "5   1.458116    ApplicantIncome\n",
       "6   1.135441  CoapplicantIncome\n",
       "7   1.541506         LoanAmount\n",
       "8   1.040649   Loan_Amount_Term\n",
       "9   1.013076     Credit_History\n",
       "10  1.027857      Property_Area"
      ]
     },
     "execution_count": 31,
     "metadata": {},
     "output_type": "execute_result"
    }
   ],
   "source": [
    "vif = pd.DataFrame()\n",
    "\n",
    "vif['Vif'] = [variance_inflation_factor(X_scaled,i) for i in range(X_scaled.shape[1])]\n",
    "vif['features'] = X.columns\n",
    "vif"
   ]
  },
  {
   "cell_type": "markdown",
   "id": "d5ab989d",
   "metadata": {
    "papermill": {
     "duration": 0.01666,
     "end_time": "2022-07-07T14:11:11.713233",
     "exception": false,
     "start_time": "2022-07-07T14:11:11.696573",
     "status": "completed"
    },
    "tags": []
   },
   "source": [
    "# Train Test Split"
   ]
  },
  {
   "cell_type": "code",
   "execution_count": 32,
   "id": "52a55d0e",
   "metadata": {
    "execution": {
     "iopub.execute_input": "2022-07-07T14:11:11.749307Z",
     "iopub.status.busy": "2022-07-07T14:11:11.748594Z",
     "iopub.status.idle": "2022-07-07T14:11:11.756864Z",
     "shell.execute_reply": "2022-07-07T14:11:11.755762Z"
    },
    "papermill": {
     "duration": 0.029402,
     "end_time": "2022-07-07T14:11:11.759585",
     "exception": false,
     "start_time": "2022-07-07T14:11:11.730183",
     "status": "completed"
    },
    "tags": []
   },
   "outputs": [],
   "source": [
    "X_train, X_test, y_train, y_test = train_test_split(X_scaled,y,test_size=0.2, stratify=y, random_state=2)"
   ]
  },
  {
   "cell_type": "markdown",
   "id": "5c691d5a",
   "metadata": {
    "papermill": {
     "duration": 0.017225,
     "end_time": "2022-07-07T14:11:11.794246",
     "exception": false,
     "start_time": "2022-07-07T14:11:11.777021",
     "status": "completed"
    },
    "tags": []
   },
   "source": [
    "# Training the Model:\n",
    "# Support Vector Machine Model"
   ]
  },
  {
   "cell_type": "code",
   "execution_count": 33,
   "id": "e7b018a2",
   "metadata": {
    "execution": {
     "iopub.execute_input": "2022-07-07T14:11:11.829705Z",
     "iopub.status.busy": "2022-07-07T14:11:11.829278Z",
     "iopub.status.idle": "2022-07-07T14:11:11.834654Z",
     "shell.execute_reply": "2022-07-07T14:11:11.833556Z"
    },
    "papermill": {
     "duration": 0.025756,
     "end_time": "2022-07-07T14:11:11.836826",
     "exception": false,
     "start_time": "2022-07-07T14:11:11.811070",
     "status": "completed"
    },
    "tags": []
   },
   "outputs": [],
   "source": [
    "classifier = svm.SVC(kernel='linear')"
   ]
  },
  {
   "cell_type": "code",
   "execution_count": 34,
   "id": "07f0d6f1",
   "metadata": {
    "execution": {
     "iopub.execute_input": "2022-07-07T14:11:11.872772Z",
     "iopub.status.busy": "2022-07-07T14:11:11.872359Z",
     "iopub.status.idle": "2022-07-07T14:11:11.885913Z",
     "shell.execute_reply": "2022-07-07T14:11:11.884685Z"
    },
    "papermill": {
     "duration": 0.034196,
     "end_time": "2022-07-07T14:11:11.888093",
     "exception": false,
     "start_time": "2022-07-07T14:11:11.853897",
     "status": "completed"
    },
    "tags": []
   },
   "outputs": [
    {
     "data": {
      "text/plain": [
       "SVC(kernel='linear')"
      ]
     },
     "execution_count": 34,
     "metadata": {},
     "output_type": "execute_result"
    }
   ],
   "source": [
    "# training the support vector machine model\n",
    "classifier.fit(X_train, y_train)"
   ]
  },
  {
   "cell_type": "code",
   "execution_count": 35,
   "id": "375a81c1",
   "metadata": {
    "execution": {
     "iopub.execute_input": "2022-07-07T14:11:11.924780Z",
     "iopub.status.busy": "2022-07-07T14:11:11.924050Z",
     "iopub.status.idle": "2022-07-07T14:11:11.933179Z",
     "shell.execute_reply": "2022-07-07T14:11:11.931760Z"
    },
    "papermill": {
     "duration": 0.0308,
     "end_time": "2022-07-07T14:11:11.936155",
     "exception": false,
     "start_time": "2022-07-07T14:11:11.905355",
     "status": "completed"
    },
    "tags": []
   },
   "outputs": [
    {
     "name": "stdout",
     "output_type": "stream",
     "text": [
      "Training Data accuracy:  0.8046875\n"
     ]
    }
   ],
   "source": [
    "# accuracy score on training data\n",
    "\n",
    "x_train_pred = classifier.predict(X_train)\n",
    "print('Training Data accuracy: ',accuracy_score(x_train_pred, y_train))"
   ]
  },
  {
   "cell_type": "code",
   "execution_count": 36,
   "id": "0ba0e718",
   "metadata": {
    "execution": {
     "iopub.execute_input": "2022-07-07T14:11:11.972875Z",
     "iopub.status.busy": "2022-07-07T14:11:11.971951Z",
     "iopub.status.idle": "2022-07-07T14:11:11.979548Z",
     "shell.execute_reply": "2022-07-07T14:11:11.978323Z"
    },
    "papermill": {
     "duration": 0.028785,
     "end_time": "2022-07-07T14:11:11.982201",
     "exception": false,
     "start_time": "2022-07-07T14:11:11.953416",
     "status": "completed"
    },
    "tags": []
   },
   "outputs": [
    {
     "name": "stdout",
     "output_type": "stream",
     "text": [
      "Training Data accuracy:  0.8229166666666666\n"
     ]
    }
   ],
   "source": [
    "# accuracy score on test data\n",
    "\n",
    "x_test_pred = classifier.predict(X_test)\n",
    "print('Training Data accuracy: ',accuracy_score(x_test_pred, y_test))"
   ]
  },
  {
   "cell_type": "markdown",
   "id": "17a8c917",
   "metadata": {
    "papermill": {
     "duration": 0.017624,
     "end_time": "2022-07-07T14:11:12.017336",
     "exception": false,
     "start_time": "2022-07-07T14:11:11.999712",
     "status": "completed"
    },
    "tags": []
   },
   "source": [
    "# Logistic Regression"
   ]
  },
  {
   "cell_type": "code",
   "execution_count": 37,
   "id": "2b7acbb1",
   "metadata": {
    "execution": {
     "iopub.execute_input": "2022-07-07T14:11:12.053847Z",
     "iopub.status.busy": "2022-07-07T14:11:12.053455Z",
     "iopub.status.idle": "2022-07-07T14:11:12.058519Z",
     "shell.execute_reply": "2022-07-07T14:11:12.057219Z"
    },
    "papermill": {
     "duration": 0.026159,
     "end_time": "2022-07-07T14:11:12.061083",
     "exception": false,
     "start_time": "2022-07-07T14:11:12.034924",
     "status": "completed"
    },
    "tags": []
   },
   "outputs": [],
   "source": [
    "from sklearn.linear_model import LogisticRegression"
   ]
  },
  {
   "cell_type": "code",
   "execution_count": 38,
   "id": "f4864782",
   "metadata": {
    "execution": {
     "iopub.execute_input": "2022-07-07T14:11:12.097306Z",
     "iopub.status.busy": "2022-07-07T14:11:12.096873Z",
     "iopub.status.idle": "2022-07-07T14:11:12.101820Z",
     "shell.execute_reply": "2022-07-07T14:11:12.100666Z"
    },
    "papermill": {
     "duration": 0.025782,
     "end_time": "2022-07-07T14:11:12.104077",
     "exception": false,
     "start_time": "2022-07-07T14:11:12.078295",
     "status": "completed"
    },
    "tags": []
   },
   "outputs": [],
   "source": [
    "log_reg = LogisticRegression()"
   ]
  },
  {
   "cell_type": "code",
   "execution_count": 39,
   "id": "631fa75f",
   "metadata": {
    "execution": {
     "iopub.execute_input": "2022-07-07T14:11:12.140562Z",
     "iopub.status.busy": "2022-07-07T14:11:12.140163Z",
     "iopub.status.idle": "2022-07-07T14:11:12.159382Z",
     "shell.execute_reply": "2022-07-07T14:11:12.158512Z"
    },
    "papermill": {
     "duration": 0.040038,
     "end_time": "2022-07-07T14:11:12.161457",
     "exception": false,
     "start_time": "2022-07-07T14:11:12.121419",
     "status": "completed"
    },
    "tags": []
   },
   "outputs": [
    {
     "data": {
      "text/plain": [
       "LogisticRegression()"
      ]
     },
     "execution_count": 39,
     "metadata": {},
     "output_type": "execute_result"
    }
   ],
   "source": [
    "# training the model\n",
    "\n",
    "log_reg.fit(X_train, y_train)"
   ]
  },
  {
   "cell_type": "code",
   "execution_count": 40,
   "id": "f2d66897",
   "metadata": {
    "execution": {
     "iopub.execute_input": "2022-07-07T14:11:12.198119Z",
     "iopub.status.busy": "2022-07-07T14:11:12.197410Z",
     "iopub.status.idle": "2022-07-07T14:11:12.203393Z",
     "shell.execute_reply": "2022-07-07T14:11:12.202057Z"
    },
    "papermill": {
     "duration": 0.026851,
     "end_time": "2022-07-07T14:11:12.205661",
     "exception": false,
     "start_time": "2022-07-07T14:11:12.178810",
     "status": "completed"
    },
    "tags": []
   },
   "outputs": [],
   "source": [
    "log_y_train_pred = log_reg.predict(X_train)"
   ]
  },
  {
   "cell_type": "code",
   "execution_count": 41,
   "id": "fe9f83a2",
   "metadata": {
    "execution": {
     "iopub.execute_input": "2022-07-07T14:11:12.243593Z",
     "iopub.status.busy": "2022-07-07T14:11:12.243098Z",
     "iopub.status.idle": "2022-07-07T14:11:12.253470Z",
     "shell.execute_reply": "2022-07-07T14:11:12.252070Z"
    },
    "papermill": {
     "duration": 0.032803,
     "end_time": "2022-07-07T14:11:12.256188",
     "exception": false,
     "start_time": "2022-07-07T14:11:12.223385",
     "status": "completed"
    },
    "tags": []
   },
   "outputs": [
    {
     "data": {
      "text/plain": [
       "0.8072916666666666"
      ]
     },
     "execution_count": 41,
     "metadata": {},
     "output_type": "execute_result"
    }
   ],
   "source": [
    "accuracy_score(log_y_train_pred, y_train)"
   ]
  },
  {
   "cell_type": "code",
   "execution_count": 42,
   "id": "8157d71b",
   "metadata": {
    "execution": {
     "iopub.execute_input": "2022-07-07T14:11:12.302697Z",
     "iopub.status.busy": "2022-07-07T14:11:12.302024Z",
     "iopub.status.idle": "2022-07-07T14:11:12.312152Z",
     "shell.execute_reply": "2022-07-07T14:11:12.310792Z"
    },
    "papermill": {
     "duration": 0.039486,
     "end_time": "2022-07-07T14:11:12.315035",
     "exception": false,
     "start_time": "2022-07-07T14:11:12.275549",
     "status": "completed"
    },
    "tags": []
   },
   "outputs": [
    {
     "data": {
      "text/plain": [
       "0.8229166666666666"
      ]
     },
     "execution_count": 42,
     "metadata": {},
     "output_type": "execute_result"
    }
   ],
   "source": [
    "log_y_test_pred = log_reg.predict(X_test)\n",
    "accuracy_score(log_y_test_pred, y_test)"
   ]
  },
  {
   "cell_type": "code",
   "execution_count": null,
   "id": "0385b0c9",
   "metadata": {
    "papermill": {
     "duration": 0.017381,
     "end_time": "2022-07-07T14:11:12.354895",
     "exception": false,
     "start_time": "2022-07-07T14:11:12.337514",
     "status": "completed"
    },
    "tags": []
   },
   "outputs": [],
   "source": []
  }
 ],
 "metadata": {
  "kernelspec": {
   "display_name": "Python 3",
   "language": "python",
   "name": "python3"
  },
  "language_info": {
   "codemirror_mode": {
    "name": "ipython",
    "version": 3
   },
   "file_extension": ".py",
   "mimetype": "text/x-python",
   "name": "python",
   "nbconvert_exporter": "python",
   "pygments_lexer": "ipython3",
   "version": "3.7.12"
  },
  "papermill": {
   "default_parameters": {},
   "duration": 15.003475,
   "end_time": "2022-07-07T14:11:13.197240",
   "environment_variables": {},
   "exception": null,
   "input_path": "__notebook__.ipynb",
   "output_path": "__notebook__.ipynb",
   "parameters": {},
   "start_time": "2022-07-07T14:10:58.193765",
   "version": "2.3.4"
  }
 },
 "nbformat": 4,
 "nbformat_minor": 5
}
